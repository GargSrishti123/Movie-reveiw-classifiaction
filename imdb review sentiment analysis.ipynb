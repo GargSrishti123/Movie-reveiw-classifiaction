{
 "cells": [
  {
   "cell_type": "code",
   "execution_count": 1,
   "id": "67a21401",
   "metadata": {},
   "outputs": [],
   "source": [
    "import numpy as np\n",
    "import pandas as pd\n",
    "import matplotlib.pyplot as plt\n",
    "import seaborn as sns"
   ]
  },
  {
   "cell_type": "code",
   "execution_count": 2,
   "id": "67f02cf7",
   "metadata": {},
   "outputs": [],
   "source": [
    "import tensorflow as tf\n",
    "from tensorflow.keras.preprocessing.text import Tokenizer\n",
    "from tensorflow.keras.preprocessing import sequence\n",
    "\n",
    "import warnings\n",
    "warnings.filterwarnings('ignore')"
   ]
  },
  {
   "cell_type": "code",
   "execution_count": 3,
   "id": "eb98b567",
   "metadata": {},
   "outputs": [],
   "source": [
    "df= pd.read_csv(\"IMDB Dataset.csv\")"
   ]
  },
  {
   "cell_type": "code",
   "execution_count": 4,
   "id": "4c5bf9ed",
   "metadata": {},
   "outputs": [
    {
     "data": {
      "text/html": [
       "<div>\n",
       "<style scoped>\n",
       "    .dataframe tbody tr th:only-of-type {\n",
       "        vertical-align: middle;\n",
       "    }\n",
       "\n",
       "    .dataframe tbody tr th {\n",
       "        vertical-align: top;\n",
       "    }\n",
       "\n",
       "    .dataframe thead th {\n",
       "        text-align: right;\n",
       "    }\n",
       "</style>\n",
       "<table border=\"1\" class=\"dataframe\">\n",
       "  <thead>\n",
       "    <tr style=\"text-align: right;\">\n",
       "      <th></th>\n",
       "      <th>review</th>\n",
       "      <th>sentiment</th>\n",
       "    </tr>\n",
       "  </thead>\n",
       "  <tbody>\n",
       "    <tr>\n",
       "      <th>0</th>\n",
       "      <td>One of the other reviewers has mentioned that ...</td>\n",
       "      <td>positive</td>\n",
       "    </tr>\n",
       "    <tr>\n",
       "      <th>1</th>\n",
       "      <td>A wonderful little production. &lt;br /&gt;&lt;br /&gt;The...</td>\n",
       "      <td>positive</td>\n",
       "    </tr>\n",
       "    <tr>\n",
       "      <th>2</th>\n",
       "      <td>I thought this was a wonderful way to spend ti...</td>\n",
       "      <td>positive</td>\n",
       "    </tr>\n",
       "    <tr>\n",
       "      <th>3</th>\n",
       "      <td>Basically there's a family where a little boy ...</td>\n",
       "      <td>negative</td>\n",
       "    </tr>\n",
       "    <tr>\n",
       "      <th>4</th>\n",
       "      <td>Petter Mattei's \"Love in the Time of Money\" is...</td>\n",
       "      <td>positive</td>\n",
       "    </tr>\n",
       "  </tbody>\n",
       "</table>\n",
       "</div>"
      ],
      "text/plain": [
       "                                              review sentiment\n",
       "0  One of the other reviewers has mentioned that ...  positive\n",
       "1  A wonderful little production. <br /><br />The...  positive\n",
       "2  I thought this was a wonderful way to spend ti...  positive\n",
       "3  Basically there's a family where a little boy ...  negative\n",
       "4  Petter Mattei's \"Love in the Time of Money\" is...  positive"
      ]
     },
     "execution_count": 4,
     "metadata": {},
     "output_type": "execute_result"
    }
   ],
   "source": [
    "df.head()"
   ]
  },
  {
   "cell_type": "code",
   "execution_count": 5,
   "id": "bf1aeb02",
   "metadata": {},
   "outputs": [
    {
     "data": {
      "text/plain": [
       "(50000, 2)"
      ]
     },
     "execution_count": 5,
     "metadata": {},
     "output_type": "execute_result"
    }
   ],
   "source": [
    "df.shape"
   ]
  },
  {
   "cell_type": "markdown",
   "id": "f76b229d",
   "metadata": {},
   "source": [
    "Data is balanced "
   ]
  },
  {
   "cell_type": "code",
   "execution_count": 6,
   "id": "6af8c71d",
   "metadata": {},
   "outputs": [],
   "source": [
    "df[\"sentiment\"]=df[\"sentiment\"].map({\"positive\":1,\"negative\":0})"
   ]
  },
  {
   "cell_type": "code",
   "execution_count": 7,
   "id": "201ee57e",
   "metadata": {},
   "outputs": [
    {
     "data": {
      "text/plain": [
       "1    25000\n",
       "0    25000\n",
       "Name: sentiment, dtype: int64"
      ]
     },
     "execution_count": 7,
     "metadata": {},
     "output_type": "execute_result"
    }
   ],
   "source": [
    "df[\"sentiment\"].value_counts()"
   ]
  },
  {
   "cell_type": "code",
   "execution_count": 8,
   "id": "6808282a",
   "metadata": {},
   "outputs": [
    {
     "data": {
      "text/html": [
       "<div>\n",
       "<style scoped>\n",
       "    .dataframe tbody tr th:only-of-type {\n",
       "        vertical-align: middle;\n",
       "    }\n",
       "\n",
       "    .dataframe tbody tr th {\n",
       "        vertical-align: top;\n",
       "    }\n",
       "\n",
       "    .dataframe thead th {\n",
       "        text-align: right;\n",
       "    }\n",
       "</style>\n",
       "<table border=\"1\" class=\"dataframe\">\n",
       "  <thead>\n",
       "    <tr style=\"text-align: right;\">\n",
       "      <th></th>\n",
       "      <th>review</th>\n",
       "      <th>sentiment</th>\n",
       "    </tr>\n",
       "  </thead>\n",
       "  <tbody>\n",
       "    <tr>\n",
       "      <th>0</th>\n",
       "      <td>One of the other reviewers has mentioned that ...</td>\n",
       "      <td>1</td>\n",
       "    </tr>\n",
       "    <tr>\n",
       "      <th>1</th>\n",
       "      <td>A wonderful little production. &lt;br /&gt;&lt;br /&gt;The...</td>\n",
       "      <td>1</td>\n",
       "    </tr>\n",
       "    <tr>\n",
       "      <th>2</th>\n",
       "      <td>I thought this was a wonderful way to spend ti...</td>\n",
       "      <td>1</td>\n",
       "    </tr>\n",
       "    <tr>\n",
       "      <th>3</th>\n",
       "      <td>Basically there's a family where a little boy ...</td>\n",
       "      <td>0</td>\n",
       "    </tr>\n",
       "    <tr>\n",
       "      <th>4</th>\n",
       "      <td>Petter Mattei's \"Love in the Time of Money\" is...</td>\n",
       "      <td>1</td>\n",
       "    </tr>\n",
       "  </tbody>\n",
       "</table>\n",
       "</div>"
      ],
      "text/plain": [
       "                                              review  sentiment\n",
       "0  One of the other reviewers has mentioned that ...          1\n",
       "1  A wonderful little production. <br /><br />The...          1\n",
       "2  I thought this was a wonderful way to spend ti...          1\n",
       "3  Basically there's a family where a little boy ...          0\n",
       "4  Petter Mattei's \"Love in the Time of Money\" is...          1"
      ]
     },
     "execution_count": 8,
     "metadata": {},
     "output_type": "execute_result"
    }
   ],
   "source": [
    "df.head()"
   ]
  },
  {
   "cell_type": "code",
   "execution_count": 9,
   "id": "4be01121",
   "metadata": {},
   "outputs": [
    {
     "data": {
      "text/plain": [
       "review       object\n",
       "sentiment     int64\n",
       "dtype: object"
      ]
     },
     "execution_count": 9,
     "metadata": {},
     "output_type": "execute_result"
    }
   ],
   "source": [
    "df.dtypes"
   ]
  },
  {
   "cell_type": "code",
   "execution_count": 10,
   "id": "f9d44aeb",
   "metadata": {},
   "outputs": [],
   "source": [
    "import text_hammer as th\n"
   ]
  },
  {
   "cell_type": "code",
   "execution_count": 11,
   "id": "c6484735",
   "metadata": {},
   "outputs": [],
   "source": [
    "def text_preprocessing(df,col):\n",
    "    df[col] = df[col].progress_apply(lambda x:str(x).lower())\n",
    "    df[col] = df[col].progress_apply(lambda x: th.cont_exp(x))   # this is to reduce like you're --> you are or I'm --> I am\n",
    "    df[col] = df[col].progress_apply(lambda x: th.remove_emails(x))\n",
    "    df[col] = df[col].progress_apply(lambda x: th.remove_html_tags(x))\n",
    "    df[col] = df[col].progress_apply(lambda x: th.remove_stopwords(x))\n",
    "    df[col] = df[col].progress_apply(lambda x: th.remove_special_chars(x))\n",
    "    df[col] = df[col].progress_apply(lambda x: th.make_base(x)) #ran -> run,\n",
    "    return(df)"
   ]
  },
  {
   "cell_type": "code",
   "execution_count": 12,
   "id": "f0709add",
   "metadata": {},
   "outputs": [
    {
     "data": {
      "application/vnd.jupyter.widget-view+json": {
       "model_id": "39356d12b711406ea4ab4d21881d28cc",
       "version_major": 2,
       "version_minor": 0
      },
      "text/plain": [
       "  0%|          | 0/50000 [00:00<?, ?it/s]"
      ]
     },
     "metadata": {},
     "output_type": "display_data"
    },
    {
     "data": {
      "application/vnd.jupyter.widget-view+json": {
       "model_id": "56c8bc6dd7134b6e92576544a04c9338",
       "version_major": 2,
       "version_minor": 0
      },
      "text/plain": [
       "  0%|          | 0/50000 [00:00<?, ?it/s]"
      ]
     },
     "metadata": {},
     "output_type": "display_data"
    },
    {
     "data": {
      "application/vnd.jupyter.widget-view+json": {
       "model_id": "4e88149aca2f4c56a5fe2c2fdc498e8e",
       "version_major": 2,
       "version_minor": 0
      },
      "text/plain": [
       "  0%|          | 0/50000 [00:00<?, ?it/s]"
      ]
     },
     "metadata": {},
     "output_type": "display_data"
    },
    {
     "data": {
      "application/vnd.jupyter.widget-view+json": {
       "model_id": "9c5d123d6f0e40f4989c41b4851e7e85",
       "version_major": 2,
       "version_minor": 0
      },
      "text/plain": [
       "  0%|          | 0/50000 [00:00<?, ?it/s]"
      ]
     },
     "metadata": {},
     "output_type": "display_data"
    },
    {
     "data": {
      "application/vnd.jupyter.widget-view+json": {
       "model_id": "700a78e3b11a4f8a806d2cfd4a88f726",
       "version_major": 2,
       "version_minor": 0
      },
      "text/plain": [
       "  0%|          | 0/50000 [00:00<?, ?it/s]"
      ]
     },
     "metadata": {},
     "output_type": "display_data"
    },
    {
     "data": {
      "application/vnd.jupyter.widget-view+json": {
       "model_id": "6b82cc2b36f34606a66f9781284604dc",
       "version_major": 2,
       "version_minor": 0
      },
      "text/plain": [
       "  0%|          | 0/50000 [00:00<?, ?it/s]"
      ]
     },
     "metadata": {},
     "output_type": "display_data"
    },
    {
     "data": {
      "application/vnd.jupyter.widget-view+json": {
       "model_id": "c8363fef907443859c0cc593d003cc58",
       "version_major": 2,
       "version_minor": 0
      },
      "text/plain": [
       "  0%|          | 0/50000 [00:00<?, ?it/s]"
      ]
     },
     "metadata": {},
     "output_type": "display_data"
    }
   ],
   "source": [
    "df = text_preprocessing(df, \"review\")"
   ]
  },
  {
   "cell_type": "code",
   "execution_count": 13,
   "id": "6b75b52b",
   "metadata": {},
   "outputs": [
    {
     "name": "stdout",
     "output_type": "stream",
     "text": [
      "(50000,)\n",
      "(50000,)\n"
     ]
    }
   ],
   "source": [
    "x = df['review']\n",
    "y = df['sentiment']\n",
    "print(x.shape)\n",
    "print(y.shape)"
   ]
  },
  {
   "cell_type": "code",
   "execution_count": 14,
   "id": "30ba81ed",
   "metadata": {},
   "outputs": [
    {
     "data": {
      "text/plain": [
       "(25000, 2)"
      ]
     },
     "execution_count": 14,
     "metadata": {},
     "output_type": "execute_result"
    }
   ],
   "source": [
    "df_pos=df[df[\"sentiment\"]==1]\n",
    "df_pos.shape"
   ]
  },
  {
   "cell_type": "code",
   "execution_count": 15,
   "id": "b4567794",
   "metadata": {},
   "outputs": [],
   "source": [
    "from nltk import word_tokenize, FreqDist\n"
   ]
  },
  {
   "cell_type": "code",
   "execution_count": 16,
   "id": "4844291c",
   "metadata": {},
   "outputs": [
    {
     "name": "stdout",
     "output_type": "stream",
     "text": [
      "[('film', 48884), ('movie', 43062), ('good', 20931), ('like', 19385), ('time', 14889), ('great', 13966), ('story', 13621), ('character', 13606), ('see', 13510), ('watch', 12089), ('love', 11407), ('think', 10740), ('it', 10719), ('well', 9845), ('scene', 9631), ('play', 9340), ('know', 9094), ('people', 8653), ('way', 8562), ('find', 8521), ('end', 8269), ('life', 8146), ('man', 8092), ('come', 8060), ('go', 7806), ('look', 7731), ('make', 7506), ('year', 7226), ('work', 7080), ('show', 6879)]\n"
     ]
    }
   ],
   "source": [
    "wt_pos =[]\n",
    "for i in df_pos['review']:\n",
    "    wt_pos.extend(word_tokenize(i))\n",
    "\n",
    "freq_dist_positive = FreqDist(wt_pos).most_common(30)\n",
    "print(freq_dist_positive)"
   ]
  },
  {
   "cell_type": "code",
   "execution_count": 17,
   "id": "5abb5a11",
   "metadata": {},
   "outputs": [
    {
     "data": {
      "text/html": [
       "<div>\n",
       "<style scoped>\n",
       "    .dataframe tbody tr th:only-of-type {\n",
       "        vertical-align: middle;\n",
       "    }\n",
       "\n",
       "    .dataframe tbody tr th {\n",
       "        vertical-align: top;\n",
       "    }\n",
       "\n",
       "    .dataframe thead th {\n",
       "        text-align: right;\n",
       "    }\n",
       "</style>\n",
       "<table border=\"1\" class=\"dataframe\">\n",
       "  <thead>\n",
       "    <tr style=\"text-align: right;\">\n",
       "      <th></th>\n",
       "      <th>word</th>\n",
       "      <th>count</th>\n",
       "    </tr>\n",
       "  </thead>\n",
       "  <tbody>\n",
       "    <tr>\n",
       "      <th>0</th>\n",
       "      <td>film</td>\n",
       "      <td>48884</td>\n",
       "    </tr>\n",
       "    <tr>\n",
       "      <th>1</th>\n",
       "      <td>movie</td>\n",
       "      <td>43062</td>\n",
       "    </tr>\n",
       "    <tr>\n",
       "      <th>2</th>\n",
       "      <td>good</td>\n",
       "      <td>20931</td>\n",
       "    </tr>\n",
       "    <tr>\n",
       "      <th>3</th>\n",
       "      <td>like</td>\n",
       "      <td>19385</td>\n",
       "    </tr>\n",
       "    <tr>\n",
       "      <th>4</th>\n",
       "      <td>time</td>\n",
       "      <td>14889</td>\n",
       "    </tr>\n",
       "  </tbody>\n",
       "</table>\n",
       "</div>"
      ],
      "text/plain": [
       "    word  count\n",
       "0   film  48884\n",
       "1  movie  43062\n",
       "2   good  20931\n",
       "3   like  19385\n",
       "4   time  14889"
      ]
     },
     "execution_count": 17,
     "metadata": {},
     "output_type": "execute_result"
    }
   ],
   "source": [
    "df_positive = pd.DataFrame(freq_dist_positive,columns=['word','count'])\n",
    "df_positive.head()"
   ]
  },
  {
   "cell_type": "code",
   "execution_count": 19,
   "id": "9220e4d3",
   "metadata": {},
   "outputs": [
    {
     "data": {
      "image/png": "[encoded data removed]",
      "text/plain": [
       "<Figure size 432x288 with 1 Axes>"
      ]
     },
     "metadata": {
      "needs_background": "light"
     },
     "output_type": "display_data"
    }
   ],
   "source": [
    "sns.barplot(x='word', y='count', data=df_positive)\n",
    "plt.xticks(rotation=90)\n",
    "plt.title(\"Top words\")\n",
    "plt.show()"
   ]
  },
  {
   "cell_type": "code",
   "execution_count": 20,
   "id": "52490ec7",
   "metadata": {},
   "outputs": [],
   "source": [
    "from wordcloud import WordCloud"
   ]
  },
  {
   "cell_type": "code",
   "execution_count": 21,
   "id": "afff66f6",
   "metadata": {},
   "outputs": [
    {
     "name": "stdout",
     "output_type": "stream",
     "text": [
      "{'film': 48884, 'movie': 43062, 'good': 20931, 'like': 19385, 'time': 14889, 'great': 13966, 'story': 13621, 'character': 13606, 'see': 13510, 'watch': 12089, 'love': 11407, 'think': 10740, 'it': 10719, 'well': 9845, 'scene': 9631, 'play': 9340, 'know': 9094, 'people': 8653, 'way': 8562, 'find': 8521, 'end': 8269, 'life': 8146, 'man': 8092, 'come': 8060, 'go': 7806, 'look': 7731, 'make': 7506, 'year': 7226, 'work': 7080, 'show': 6879}\n"
     ]
    }
   ],
   "source": [
    "freq_dist_positive = dict(freq_dist_positive)\n",
    "print(freq_dist_positive)"
   ]
  },
  {
   "cell_type": "code",
   "execution_count": 22,
   "id": "1319fa8a",
   "metadata": {},
   "outputs": [
    {
     "data": {
      "image/png": "[encoded data removed]",
      "text/plain": [
       "<Figure size 432x288 with 1 Axes>"
      ]
     },
     "metadata": {
      "needs_background": "light"
     },
     "output_type": "display_data"
    }
   ],
   "source": [
    "wc_positive = WordCloud().generate_from_frequencies(freq_dist_positive)\n",
    "# plt.figure(figsize=(10,10))\n",
    "plt.imshow(wc_positive)\n",
    "plt.axis('off')\n",
    "plt.show()"
   ]
  },
  {
   "cell_type": "code",
   "execution_count": 23,
   "id": "b51f2fe8",
   "metadata": {},
   "outputs": [],
   "source": [
    "from tensorflow.keras.preprocessing.text import Tokenizer\n",
    "from tensorflow.keras.preprocessing.sequence import pad_sequences"
   ]
  },
  {
   "cell_type": "code",
   "execution_count": 25,
   "id": "8e185f14",
   "metadata": {},
   "outputs": [
    {
     "name": "stderr",
     "output_type": "stream",
     "text": [
      "IOPub data rate exceeded.\n",
      "The notebook server will temporarily stop sending output\n",
      "to the client in order to avoid crashing it.\n",
      "To change this limit, set the config variable\n",
      "`--NotebookApp.iopub_data_rate_limit`.\n",
      "\n",
      "Current values:\n",
      "NotebookApp.iopub_data_rate_limit=1000000.0 (bytes/sec)\n",
      "NotebookApp.rate_limit_window=3.0 (secs)\n",
      "\n"
     ]
    }
   ],
   "source": [
    "max_words = 30000\n",
    "max_len = 100\n",
    "\n",
    "tk = Tokenizer(num_words=max_words)\n",
    "tk.fit_on_texts(x)\n",
    "\n",
    "print(len(tk.word_index))\n",
    "print(tk.word_counts)"
   ]
  },
  {
   "cell_type": "code",
   "execution_count": 26,
   "id": "4ae53b5b",
   "metadata": {},
   "outputs": [],
   "source": [
    "max_lenth = 100\n",
    "sequences = tk.texts_to_sequences(x)\n",
    "x_pad = pad_sequences(sequences,maxlen=max_len)"
   ]
  },
  {
   "cell_type": "code",
   "execution_count": 27,
   "id": "66b89a84",
   "metadata": {},
   "outputs": [
    {
     "data": {
      "text/plain": [
       "(50000, 100)"
      ]
     },
     "execution_count": 27,
     "metadata": {},
     "output_type": "execute_result"
    }
   ],
   "source": [
    "x_pad.shape"
   ]
  },
  {
   "cell_type": "code",
   "execution_count": 28,
   "id": "afcbfb46",
   "metadata": {},
   "outputs": [],
   "source": [
    "from tensorflow.keras.models import Sequential \n",
    "from tensorflow.keras.layers import Dense, LSTM, Embedding,Flatten\n",
    "import tensorflow as tf\n",
    "from tensorflow.keras.layers import Dropout\n",
    "from tensorflow.keras.callbacks import EarlyStopping"
   ]
  },
  {
   "cell_type": "code",
   "execution_count": 29,
   "id": "09260d9a",
   "metadata": {},
   "outputs": [
    {
     "name": "stdout",
     "output_type": "stream",
     "text": [
      "30001\n",
      "64\n",
      "(50000, 100)\n"
     ]
    }
   ],
   "source": [
    "vocab_size = max_words + 1\n",
    "embedding_dim = 64\n",
    "print(vocab_size)\n",
    "print(embedding_dim)\n",
    "print(x_pad.shape)"
   ]
  },
  {
   "cell_type": "code",
   "execution_count": 30,
   "id": "8e46368d",
   "metadata": {},
   "outputs": [],
   "source": [
    "m1 = Sequential()\n",
    "m1.add(Embedding(vocab_size,embedding_dim,input_length=x_pad.shape[1]))    \n",
    "m1.add(LSTM(200, return_sequences=True))\n",
    "m1.add(Dropout(0.5))\n",
    "m1.add(LSTM(200,return_sequences=True))\n",
    "m1.add(Dropout(0.5))\n",
    "m1.add(LSTM(200))\n",
    "m1.add(Dropout(0.5))\n",
    "m1.add(Dense(128))\n",
    "m1.add(Dropout(0.5))\n",
    "m1.add(Dense(1,activation='sigmoid'))\n",
    "\n",
    "m1.compile(loss='binary_crossentropy',optimizer='adam',metrics=['acc'])"
   ]
  },
  {
   "cell_type": "code",
   "execution_count": 31,
   "id": "03997821",
   "metadata": {},
   "outputs": [
    {
     "name": "stdout",
     "output_type": "stream",
     "text": [
      "Epoch 1/5\n",
      "782/782 [==============================] - 1451s 2s/step - loss: 0.3569 - acc: 0.8454\n",
      "Epoch 2/5\n",
      "782/782 [==============================] - 1430s 2s/step - loss: 0.2043 - acc: 0.9237\n",
      "Epoch 3/5\n",
      "782/782 [==============================] - 1438s 2s/step - loss: 0.1249 - acc: 0.9551\n",
      "Epoch 4/5\n",
      "782/782 [==============================] - 1442s 2s/step - loss: 0.0804 - acc: 0.9728\n",
      "Epoch 5/5\n",
      "782/782 [==============================] - 1442s 2s/step - loss: 0.0569 - acc: 0.9807\n"
     ]
    }
   ],
   "source": [
    "h1 = m1.fit(x_pad,y,batch_size=64,epochs=5)\n"
   ]
  },
  {
   "cell_type": "code",
   "execution_count": 32,
   "id": "e2ba0e57",
   "metadata": {},
   "outputs": [
    {
     "name": "stdout",
     "output_type": "stream",
     "text": [
      "Model: \"sequential\"\n",
      "_________________________________________________________________\n",
      " Layer (type)                Output Shape              Param #   \n",
      "=================================================================\n",
      " embedding (Embedding)       (None, 100, 64)           1920064   \n",
      "                                                                 \n",
      " lstm (LSTM)                 (None, 100, 200)          212000    \n",
      "                                                                 \n",
      " dropout (Dropout)           (None, 100, 200)          0         \n",
      "                                                                 \n",
      " lstm_1 (LSTM)               (None, 100, 200)          320800    \n",
      "                                                                 \n",
      " dropout_1 (Dropout)         (None, 100, 200)          0         \n",
      "                                                                 \n",
      " lstm_2 (LSTM)               (None, 200)               320800    \n",
      "                                                                 \n",
      " dropout_2 (Dropout)         (None, 200)               0         \n",
      "                                                                 \n",
      " dense (Dense)               (None, 128)               25728     \n",
      "                                                                 \n",
      " dropout_3 (Dropout)         (None, 128)               0         \n",
      "                                                                 \n",
      " dense_1 (Dense)             (None, 1)                 129       \n",
      "                                                                 \n",
      "=================================================================\n",
      "Total params: 2,799,521\n",
      "Trainable params: 2,799,521\n",
      "Non-trainable params: 0\n",
      "_________________________________________________________________\n"
     ]
    }
   ],
   "source": [
    "m1.summary()"
   ]
  },
  {
   "cell_type": "code",
   "execution_count": 33,
   "id": "5b77fe71",
   "metadata": {},
   "outputs": [
    {
     "data": {
      "text/html": [
       "<div>\n",
       "<style scoped>\n",
       "    .dataframe tbody tr th:only-of-type {\n",
       "        vertical-align: middle;\n",
       "    }\n",
       "\n",
       "    .dataframe tbody tr th {\n",
       "        vertical-align: top;\n",
       "    }\n",
       "\n",
       "    .dataframe thead th {\n",
       "        text-align: right;\n",
       "    }\n",
       "</style>\n",
       "<table border=\"1\" class=\"dataframe\">\n",
       "  <thead>\n",
       "    <tr style=\"text-align: right;\">\n",
       "      <th></th>\n",
       "      <th>loss</th>\n",
       "      <th>acc</th>\n",
       "      <th>Epochs</th>\n",
       "    </tr>\n",
       "  </thead>\n",
       "  <tbody>\n",
       "    <tr>\n",
       "      <th>0</th>\n",
       "      <td>0.356946</td>\n",
       "      <td>0.84538</td>\n",
       "      <td>0</td>\n",
       "    </tr>\n",
       "    <tr>\n",
       "      <th>1</th>\n",
       "      <td>0.204299</td>\n",
       "      <td>0.92366</td>\n",
       "      <td>1</td>\n",
       "    </tr>\n",
       "    <tr>\n",
       "      <th>2</th>\n",
       "      <td>0.124932</td>\n",
       "      <td>0.95508</td>\n",
       "      <td>2</td>\n",
       "    </tr>\n",
       "    <tr>\n",
       "      <th>3</th>\n",
       "      <td>0.080414</td>\n",
       "      <td>0.97280</td>\n",
       "      <td>3</td>\n",
       "    </tr>\n",
       "    <tr>\n",
       "      <th>4</th>\n",
       "      <td>0.056856</td>\n",
       "      <td>0.98070</td>\n",
       "      <td>4</td>\n",
       "    </tr>\n",
       "  </tbody>\n",
       "</table>\n",
       "</div>"
      ],
      "text/plain": [
       "       loss      acc  Epochs\n",
       "0  0.356946  0.84538       0\n",
       "1  0.204299  0.92366       1\n",
       "2  0.124932  0.95508       2\n",
       "3  0.080414  0.97280       3\n",
       "4  0.056856  0.98070       4"
      ]
     },
     "execution_count": 33,
     "metadata": {},
     "output_type": "execute_result"
    }
   ],
   "source": [
    "r1 = pd.DataFrame(h1.history)\n",
    "r1['Epochs'] = h1.epoch\n",
    "r1.tail()"
   ]
  },
  {
   "cell_type": "code",
   "execution_count": 34,
   "id": "464bfa5e",
   "metadata": {},
   "outputs": [
    {
     "data": {
      "image/png": "[encoded data removed]",
      "text/plain": [
       "<Figure size 432x288 with 1 Axes>"
      ]
     },
     "metadata": {
      "needs_background": "light"
     },
     "output_type": "display_data"
    }
   ],
   "source": [
    "plt.plot(r1['Epochs'],r1['loss'],label='Training loss')\n",
    "# plt.plot(r1['Epochs'],r1['val_loss'],label='Testing loss')\n",
    "plt.title('Loss vs Epochs')\n",
    "plt.xlabel('Epochs - no of iterations')\n",
    "plt.ylabel('Loss')\n",
    "plt.legend()\n",
    "plt.grid()\n",
    "plt.show()"
   ]
  },
  {
   "cell_type": "code",
   "execution_count": 35,
   "id": "94ff33b7",
   "metadata": {},
   "outputs": [
    {
     "data": {
      "image/png": "[encoded data removed]",
      "text/plain": [
       "<Figure size 432x288 with 1 Axes>"
      ]
     },
     "metadata": {
      "needs_background": "light"
     },
     "output_type": "display_data"
    }
   ],
   "source": [
    "plt.plot(r1['Epochs'],r1['acc'],label='Training accuracy')\n",
    "# plt.plot(r1['Epochs'],r1['val_accuracy'],label='Testing accuracy')\n",
    "plt.title('accuracy vs Epochs')\n",
    "plt.xlabel('Epochs - no of iterations')\n",
    "plt.ylabel('Accuracy')\n",
    "plt.legend()\n",
    "plt.grid()\n",
    "plt.show()"
   ]
  },
  {
   "cell_type": "code",
   "execution_count": 36,
   "id": "6546ad68",
   "metadata": {},
   "outputs": [
    {
     "name": "stdout",
     "output_type": "stream",
     "text": [
      "(25000, 2)\n",
      "(25000, 2)\n"
     ]
    }
   ],
   "source": [
    "df0 = df[df['sentiment']==0]\n",
    "df1 = df[df['sentiment']==1]\n",
    "print(df0.shape)\n",
    "print(df1.shape)"
   ]
  },
  {
   "cell_type": "code",
   "execution_count": 38,
   "id": "8f4d0e59",
   "metadata": {},
   "outputs": [
    {
     "data": {
      "text/plain": [
       "3     basically family little boy jake think zombie ...\n",
       "7     amazing fresh innovative idea 70 air 7 8 year ...\n",
       "8     encourage positive comment film look forward w...\n",
       "10    phil alien quirky film humour base oddness act...\n",
       "11    see movie 12 come out recall scary scene big b...\n",
       "Name: review, dtype: object"
      ]
     },
     "execution_count": 38,
     "metadata": {},
     "output_type": "execute_result"
    }
   ],
   "source": [
    "df0['review'][:5]\n"
   ]
  },
  {
   "cell_type": "code",
   "execution_count": 39,
   "id": "6d5de7d1",
   "metadata": {},
   "outputs": [
    {
     "data": {
      "text/plain": [
       "0     reviewer mention watch 1 oz episode you ll hoo...\n",
       "1     wonderful little production filming technique ...\n",
       "2     think wonderful way spend time hot summer week...\n",
       "4     petter mattei love time money visually stunnin...\n",
       "5     probably alltime favorite movie story selfless...\n",
       "6     sure like resurrection date seahunt series tec...\n",
       "9     like original gut wrench laughter like movie y...\n",
       "14    fantastic movie prisoner famous actor george c...\n",
       "16    film simply remade they bad film fail capture ...\n",
       "18    remember filmit film watch cinema picture dark...\n",
       "20    success die hard sequel surprise 1990 glut die...\n",
       "22    absolutely stunning movie 25 hrs kill watch it...\n",
       "25    karen carpenter story show little singer karen...\n",
       "26    the cell exotic masterpiece dizzying trip vast...\n",
       "29    war movie hollywood genre redone time clichéd ...\n",
       "30    taut organically grip edward dmytryks crossfir...\n",
       "31    ardh satya fine film indian cinema direct grea...\n",
       "33    significant quote entire film pronounce halfwa...\n",
       "38    okay series kind take route here again week in...\n",
       "41    movie base book a splendore thing han suyin ta...\n",
       "Name: review, dtype: object"
      ]
     },
     "execution_count": 39,
     "metadata": {},
     "output_type": "execute_result"
    }
   ],
   "source": [
    "df1['review'][:20]\n"
   ]
  },
  {
   "cell_type": "code",
   "execution_count": 40,
   "id": "c80f5313",
   "metadata": {},
   "outputs": [],
   "source": [
    "def predict_review_emotion(msg):\n",
    "    seq = tk.texts_to_sequences(msg)\n",
    "    pad = pad_sequences(seq, maxlen=100)\n",
    "    print(pad.shape)\n",
    "    pred = m1.predict(pad)\n",
    "    pred_res = [1 if i>0.5 else 0 for i in pred]\n",
    "    print('pred',pred)\n",
    "    print('pred_res',pred_res)"
   ]
  },
  {
   "cell_type": "code",
   "execution_count": 42,
   "id": "fca26c02",
   "metadata": {},
   "outputs": [
    {
     "data": {
      "text/html": [
       "<div>\n",
       "<style scoped>\n",
       "    .dataframe tbody tr th:only-of-type {\n",
       "        vertical-align: middle;\n",
       "    }\n",
       "\n",
       "    .dataframe tbody tr th {\n",
       "        vertical-align: top;\n",
       "    }\n",
       "\n",
       "    .dataframe thead th {\n",
       "        text-align: right;\n",
       "    }\n",
       "</style>\n",
       "<table border=\"1\" class=\"dataframe\">\n",
       "  <thead>\n",
       "    <tr style=\"text-align: right;\">\n",
       "      <th></th>\n",
       "      <th>review</th>\n",
       "      <th>sentiment</th>\n",
       "    </tr>\n",
       "  </thead>\n",
       "  <tbody>\n",
       "    <tr>\n",
       "      <th>0</th>\n",
       "      <td>reviewer mention watch 1 oz episode you ll hoo...</td>\n",
       "      <td>1</td>\n",
       "    </tr>\n",
       "  </tbody>\n",
       "</table>\n",
       "</div>"
      ],
      "text/plain": [
       "                                              review  sentiment\n",
       "0  reviewer mention watch 1 oz episode you ll hoo...          1"
      ]
     },
     "execution_count": 42,
     "metadata": {},
     "output_type": "execute_result"
    }
   ],
   "source": [
    "df1[:1]"
   ]
  },
  {
   "cell_type": "code",
   "execution_count": 43,
   "id": "057c5bd3",
   "metadata": {},
   "outputs": [
    {
     "name": "stdout",
     "output_type": "stream",
     "text": [
      "(47, 100)\n",
      "2/2 [==============================] - 9s 211ms/step\n",
      "pred [[0.6146327 ]\n",
      " [0.29229265]\n",
      " [0.39314327]\n",
      " [0.51863813]\n",
      " [0.29229265]\n",
      " [0.6360134 ]\n",
      " [0.29229265]\n",
      " [0.6146327 ]\n",
      " [0.5788276 ]\n",
      " [0.88232976]\n",
      " [0.29229265]\n",
      " [0.5788276 ]\n",
      " [0.6780771 ]\n",
      " [0.51863813]\n",
      " [0.8958491 ]\n",
      " [0.5788276 ]\n",
      " [0.5788276 ]\n",
      " [0.6360134 ]\n",
      " [0.87775296]\n",
      " [0.6780771 ]\n",
      " [0.07326002]\n",
      " [0.80553764]\n",
      " [0.5788276 ]\n",
      " [0.08087988]\n",
      " [0.5788276 ]\n",
      " [0.8958491 ]\n",
      " [0.22289792]\n",
      " [0.5788276 ]\n",
      " [0.29229265]\n",
      " [0.0498974 ]\n",
      " [0.51863813]\n",
      " [0.60820687]\n",
      " [0.8958491 ]\n",
      " [0.10575117]\n",
      " [0.29229268]\n",
      " [0.5788276 ]\n",
      " [0.7367956 ]\n",
      " [0.8958491 ]\n",
      " [0.5788276 ]\n",
      " [0.5788276 ]\n",
      " [0.8347378 ]\n",
      " [0.8347378 ]\n",
      " [0.5788276 ]\n",
      " [0.80553764]\n",
      " [0.8958491 ]\n",
      " [0.8958491 ]\n",
      " [0.5788276 ]]\n",
      "pred_res [1, 0, 0, 1, 0, 1, 0, 1, 1, 1, 0, 1, 1, 1, 1, 1, 1, 1, 1, 1, 0, 1, 1, 0, 1, 1, 0, 1, 0, 0, 1, 1, 1, 0, 0, 1, 1, 1, 1, 1, 1, 1, 1, 1, 1, 1, 1]\n"
     ]
    }
   ],
   "source": [
    "predict_review_emotion(\"reviewer mention watch 1 oz episode you ll hoo.\")"
   ]
  },
  {
   "cell_type": "code",
   "execution_count": 44,
   "id": "a967e2f9",
   "metadata": {},
   "outputs": [
    {
     "data": {
      "text/html": [
       "<div>\n",
       "<style scoped>\n",
       "    .dataframe tbody tr th:only-of-type {\n",
       "        vertical-align: middle;\n",
       "    }\n",
       "\n",
       "    .dataframe tbody tr th {\n",
       "        vertical-align: top;\n",
       "    }\n",
       "\n",
       "    .dataframe thead th {\n",
       "        text-align: right;\n",
       "    }\n",
       "</style>\n",
       "<table border=\"1\" class=\"dataframe\">\n",
       "  <thead>\n",
       "    <tr style=\"text-align: right;\">\n",
       "      <th></th>\n",
       "      <th>review</th>\n",
       "      <th>sentiment</th>\n",
       "    </tr>\n",
       "  </thead>\n",
       "  <tbody>\n",
       "    <tr>\n",
       "      <th>3</th>\n",
       "      <td>basically family little boy jake think zombie ...</td>\n",
       "      <td>0</td>\n",
       "    </tr>\n",
       "  </tbody>\n",
       "</table>\n",
       "</div>"
      ],
      "text/plain": [
       "                                              review  sentiment\n",
       "3  basically family little boy jake think zombie ...          0"
      ]
     },
     "execution_count": 44,
     "metadata": {},
     "output_type": "execute_result"
    }
   ],
   "source": [
    "df0[:1]"
   ]
  },
  {
   "cell_type": "code",
   "execution_count": 45,
   "id": "a9b32a76",
   "metadata": {},
   "outputs": [
    {
     "name": "stdout",
     "output_type": "stream",
     "text": [
      "(45, 100)\n",
      "2/2 [==============================] - 1s 187ms/step\n",
      "pred [[0.97104186]\n",
      " [0.87775296]\n",
      " [0.60820687]\n",
      " [0.51863813]\n",
      " [0.07326002]\n",
      " [0.87775296]\n",
      " [0.8347378 ]\n",
      " [0.8347378 ]\n",
      " [0.7367956 ]\n",
      " [0.5788276 ]\n",
      " [0.01295028]\n",
      " [0.87775296]\n",
      " [0.88232976]\n",
      " [0.51863813]\n",
      " [0.8347378 ]\n",
      " [0.7367956 ]\n",
      " [0.5788276 ]\n",
      " [0.8347378 ]\n",
      " [0.51863813]\n",
      " [0.6780771 ]\n",
      " [0.6780771 ]\n",
      " [0.8347378 ]\n",
      " [0.29229265]\n",
      " [0.5788276 ]\n",
      " [0.97104186]\n",
      " [0.8958491 ]\n",
      " [0.7367956 ]\n",
      " [0.5788276 ]\n",
      " [0.63149124]\n",
      " [0.87775296]\n",
      " [0.32792684]\n",
      " [0.29229265]\n",
      " [0.5788276 ]\n",
      " [0.6780771 ]\n",
      " [0.80553764]\n",
      " [0.51863813]\n",
      " [0.5788276 ]\n",
      " [0.32792684]\n",
      " [0.5788276 ]\n",
      " [0.22289789]\n",
      " [0.8958491 ]\n",
      " [0.88232976]\n",
      " [0.97104186]\n",
      " [0.51863813]\n",
      " [0.29229268]]\n",
      "pred_res [1, 1, 1, 1, 0, 1, 1, 1, 1, 1, 0, 1, 1, 1, 1, 1, 1, 1, 1, 1, 1, 1, 0, 1, 1, 1, 1, 1, 1, 1, 0, 0, 1, 1, 1, 1, 1, 0, 1, 0, 1, 1, 1, 1, 0]\n"
     ]
    }
   ],
   "source": [
    "predict_review_emotion(\"basically family little boy jake think zombie\")"
   ]
  },
  {
   "cell_type": "code",
   "execution_count": null,
   "id": "b03d5e11",
   "metadata": {},
   "outputs": [],
   "source": []
  }
 ],
 "metadata": {
  "kernelspec": {
   "display_name": "Python 3 (ipykernel)",
   "language": "python",
   "name": "python3"
  },
  "language_info": {
   "codemirror_mode": {
    "name": "ipython",
    "version": 3
   },
   "file_extension": ".py",
   "mimetype": "text/x-python",
   "name": "python",
   "nbconvert_exporter": "python",
   "pygments_lexer": "ipython3",
   "version": "3.9.12"
  }
 },
 "nbformat": 4,
 "nbformat_minor": 5
}
